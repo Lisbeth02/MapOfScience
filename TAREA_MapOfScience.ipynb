{
 "cells": [
  {
   "cell_type": "markdown",
   "metadata": {},
   "source": [
    "# Solution Map of Science \n",
    "### Read the file `pubmed_results.txt`, and extract all the US ZIP codes."
   ]
  },
  {
   "cell_type": "markdown",
   "metadata": {},
   "source": [
    "First, import the modules we'll need."
   ]
  },
  {
   "cell_type": "code",
   "execution_count": 32,
   "metadata": {},
   "outputs": [],
   "source": [
    "import re\n",
    "import csv\n",
    "import itertools\n",
    "import pandas as pd\n",
    "import matplotlib.pyplot as plt"
   ]
  },
  {
   "cell_type": "markdown",
   "metadata": {},
   "source": [
    "Now read the whole file, and store it into a string."
   ]
  },
  {
   "cell_type": "code",
   "execution_count": 33,
   "metadata": {},
   "outputs": [],
   "source": [
    "f = open('Data/pubmed-antimicrob-set (1).txt',errors = 'ignore')\n",
    "Carpetas = f.read()"
   ]
  },
  {
   "cell_type": "code",
   "execution_count": 34,
   "metadata": {},
   "outputs": [
    {
     "data": {
      "text/plain": [
       "37496293"
      ]
     },
     "execution_count": 34,
     "metadata": {},
     "output_type": "execute_result"
    }
   ],
   "source": [
    "len(Carpetas)"
   ]
  },
  {
   "cell_type": "markdown",
   "metadata": {},
   "source": [
    "Note that the zipcode could be broken over two lines, as in line 43 of `pubmed-antimicrob-set (1).txt`\n",
    "\n",
    "```\n",
    "AD  - Biological and Biomedical Sciences Program, Harvard Medical School, Boston, MA\n",
    "      02115, USA. Department of Genetics, Harvard Medical School, Boston, MA 02115,\n",
    "      USA.\n",
    "```\n",
    "\n",
    "To avoid problems, replace each newline followed by 6 spaces with a single space."
   ]
  },
  {
   "cell_type": "code",
   "execution_count": 35,
   "metadata": {},
   "outputs": [],
   "source": [
    "Carpeta = re.sub(r'\\n\\s{6}', ' ', Carpetas)"
   ]
  },
  {
   "cell_type": "markdown",
   "metadata": {},
   "source": [
    "We should now have every entry in a single line. Let's look at part of an entry:"
   ]
  },
  {
   "cell_type": "code",
   "execution_count": 38,
   "metadata": {},
   "outputs": [],
   "source": [
    "Carpetas = re.findall(r\"\\,\\s[A-Z]+[A-z]{2,11}\\.\", Carpeta)\n",
    "unique_codes = list(set(Carpetas))\n",
    "unique_codes.sort()"
   ]
  },
  {
   "cell_type": "code",
   "execution_count": 39,
   "metadata": {},
   "outputs": [
    {
     "name": "stdout",
     "output_type": "stream",
     "text": [
      "[', Acad.', ', Allemagne.', ', Amsterdam.', ', Angew.', ', Anichstr.', ', Antimicrob.', ', Antioquia.', ', Apdo.', ', Argentina.', ', Armenia.', ', Atsugi.', ', Auerbachstr.', ', Australia.', ', Austria.', ', Avda.', ', Ave.', ', BCS.', ', Bangladesh.', ', Barcelona.', ', Bari.', ', Basel.', ', Baxter.', ', Bdr.', ', Beijing.', ', Belarus.', ', Belgien.', ', Belgique.', ', Belgium.', ', Berlin.', ', Billrothstr.', ', Biochem.', ', Biochim.', ', Biophys.', ', Bldg.', ', Bleichstr.', ', Blvd.', ', Bombina.', ', Bonn.', ', Botswana.', ', Brasil.', ', Brazil.', ', Broad.', ', Bulgaria.', ', Bvd.', ', CSIC.', ', Cagliari.', ', Calif.', ', California.', ', Canada.', ', Chengdu.', ', Chile.', ', China.', ', Col.', ', Colombia.', ', Colorado.', ', Connecticut.', ', Copenhagen.', ', Croatia.', ', Crta.', ', Cryptococcus.', ', CsBPI.', ', CsgA.', ', Ctra.', ', Cuba.', ', Custodisstr.', ', Cyprus.', ', Czechia.', ', Dallas.', ', Denmark.', ', Dept.', ', Deutschland.', ', Dist.', ', Distt.', ', Div.', ', DnaI.', ', DnaK.', ', Drosocin.', ', Drs.', ', Ecuador.', ', Edif.', ', Egypt.', ', Estonia.', ', Ethiopia.', ', Eur.', ', FQWQRN.', ', FRANCE.', ', Finland.', ', Fla.', ', Florida.', ', France.', ', Frauenlobstr.', ', Gen.', ', Georgia.', ', Germany.', ', Ghana.', ', Govt.', ', Greece.', ', Grosshadern.', ', Guadeloupe.', ', Guanajuato.', ', Guinea.', ', Gujarat.', ', HKSAR.', ', HUS.', ', HaCaT.', ', Hbt.', ', HeLa.', ', Herrsching.', ', Humboldtstr.', ', Hungary.', ', INDIA.', ', IPN.', ', Iceland.', ', Illinois.', ', Inc.', ', India.', ', Indiana.', ', Infect.', ', Inhoffenstr.', ', Iowa.', ', Iran.', ', Iraq.', ', Ireland.', ', IsCT.', ', Israel.', ', Italia.', ', Italy.', ', Jal.', ', James.', ', Japan.', ', Jiangsu.', ', Johannesburg.', ', Jordan.', ', Kaiserstr.', ', Kalle.', ', Kansas.', ', Kazakhstan.', ', Kerala.', ', Kgs.', ', Kiel.', ', Korea.', ', Kuwait.', ', LLC.', ', LTA.', ', Latvia.', ', Lebanon.', ', Litoria.', ', Loc.', ', London.', ', Louisiana.', ', Ltd.', ', Luzhou.', ', MSE.', ', Macao.', ', Malaysia.', ', Man.', ', Maryland.', ', Mass.', ', Mexico.', ', Michigan.', ', Milan.', ', Minnesota.', ', Missouri.', ', Mongolia.', ', Mor.', ', Morelos.', ', Morocco.', ', Moscow.', ', Moskau.', ', Mozambique.', ', NMB.', ', Netherlands.', ', Norway.', ', Ohio.', ', Okla.', ', Olshausenstr.', ', Oman.', ', Ont.', ', Oregon.', ', OspC.', ', PGLa.', ', PRC.', ', PagP.', ', Pakistan.', ', Palestine.', ', Pauwelsstr.', ', Pav.', ', Pennsylvania.', ', Perm.', ', Peru.', ', Philippines.', ', PmrD.', ', Poland.', ', Polska.', ', Portugal.', ', Prol.', ', Qatar.', ', Qld.', ', Que.', ', ROC.', ', RRWVRRVRRWVRRVVRVVRRWVRR.', ', RTCYCRTGR.', ', Rana.', ', RcsF.', ', Rennes.', ', Roma.', ', Romania.', ', Roumania.', ', Russia.', ', Schumannstr.', ', Scotland.', ', Seattle.', ', Sec.', ', Seoul.', ', Serbia.', ', Singapore.', ', Slovakia.', ', Slovenia.', ', Spain.', ', Staph.', ', Stockholm.', ', Str.', ', Stuttgart.', ', Succ.', ', Sudan.', ', Swede.', ', Sweden.', ', Switzerland.', ', Szczecin.', ', TFE.', ', Taiwan.', ', Tammannstr.', ', Tennessee.', ', Tex.', ', Texas.', ', Thailand.', ', Thea.', ', Tokushima.', ', Tokyo.', ', Trieste.', ', Tunisia.', ', Tunisie.', ', Turkey.', ', Turkiye.', ', Turku.', ', UAE.', ', UCLA.', ', UNAM.', ', UNL.', ', USA.', ', USF.', ', Ukraine.', ', Univ.', ', Uruguay.', ', Utrecht.', ', Vadodara.', ', Venezuela.', ', Vic.', ', Vietnam.', ', Vol.', ', Vul.', ', Weinheim.', ', Wisconsin.', ', Wits.', ', Wuhan.', ', Yunnan.']\n"
     ]
    }
   ],
   "source": [
    "a = unique_codes\n",
    "print(a)"
   ]
  },
  {
   "cell_type": "code",
   "execution_count": 40,
   "metadata": {},
   "outputs": [
    {
     "ename": "ValueError",
     "evalue": "list.remove(x): x not in list",
     "output_type": "error",
     "traceback": [
      "\u001b[1;31m---------------------------------------------------------------------------\u001b[0m",
      "\u001b[1;31mValueError\u001b[0m                                Traceback (most recent call last)",
      "\u001b[1;32m~\\AppData\\Local\\Temp/ipykernel_16228/712951128.py\u001b[0m in \u001b[0;36m<module>\u001b[1;34m\u001b[0m\n\u001b[0;32m      1\u001b[0m \u001b[0mr\u001b[0m \u001b[1;33m=\u001b[0m \u001b[0munique_codes\u001b[0m\u001b[1;33m\u001b[0m\u001b[1;33m\u001b[0m\u001b[0m\n\u001b[1;32m----> 2\u001b[1;33m \u001b[0mr\u001b[0m\u001b[1;33m.\u001b[0m\u001b[0mremove\u001b[0m\u001b[1;33m(\u001b[0m\u001b[1;34m', Rod.'\u001b[0m\u001b[1;33m)\u001b[0m\u001b[1;33m\u001b[0m\u001b[1;33m\u001b[0m\u001b[0m\n\u001b[0m\u001b[0;32m      3\u001b[0m \u001b[0mr\u001b[0m\u001b[1;33m.\u001b[0m\u001b[0mremove\u001b[0m\u001b[1;33m(\u001b[0m\u001b[1;34m', Syst.'\u001b[0m\u001b[1;33m)\u001b[0m\u001b[1;33m\u001b[0m\u001b[1;33m\u001b[0m\u001b[0m\n\u001b[0;32m      4\u001b[0m \u001b[0mr\u001b[0m\u001b[1;33m.\u001b[0m\u001b[0mremove\u001b[0m\u001b[1;33m(\u001b[0m\u001b[1;34m', Vic.'\u001b[0m\u001b[1;33m)\u001b[0m\u001b[1;33m\u001b[0m\u001b[1;33m\u001b[0m\u001b[0m\n\u001b[0;32m      5\u001b[0m \u001b[0mr\u001b[0m\u001b[1;33m.\u001b[0m\u001b[0mremove\u001b[0m\u001b[1;33m(\u001b[0m\u001b[1;34m', Prof.'\u001b[0m\u001b[1;33m)\u001b[0m\u001b[1;33m\u001b[0m\u001b[1;33m\u001b[0m\u001b[0m\n",
      "\u001b[1;31mValueError\u001b[0m: list.remove(x): x not in list"
     ]
    }
   ],
   "source": [
    "r = unique_codes\n",
    "r.remove(', Rod.')\n",
    "r.remove(', Syst.')\n",
    "r.remove(', Vic.')\n",
    "r.remove(', Prof.')\n",
    "r.remove(', Prov.')\n",
    "r.remove(', Ref.')\n",
    "r.remove(', SCK.')\n",
    "r.remove(', Sec.')"
   ]
  },
  {
   "cell_type": "code",
   "execution_count": 41,
   "metadata": {},
   "outputs": [
    {
     "name": "stdout",
     "output_type": "stream",
     "text": [
      "[', Acad.', ', Allemagne.', ', Amsterdam.', ', Angew.', ', Anichstr.', ', Antimicrob.', ', Antioquia.', ', Apdo.', ', Argentina.', ', Armenia.', ', Atsugi.', ', Auerbachstr.', ', Australia.', ', Austria.', ', Avda.', ', Ave.', ', BCS.', ', Bangladesh.', ', Barcelona.', ', Bari.', ', Basel.', ', Baxter.', ', Bdr.', ', Beijing.', ', Belarus.', ', Belgien.', ', Belgique.', ', Belgium.', ', Berlin.', ', Billrothstr.', ', Biochem.', ', Biochim.', ', Biophys.', ', Bldg.', ', Bleichstr.', ', Blvd.', ', Bombina.', ', Bonn.', ', Botswana.', ', Brasil.', ', Brazil.', ', Broad.', ', Bulgaria.', ', Bvd.', ', CSIC.', ', Cagliari.', ', Calif.', ', California.', ', Canada.', ', Chengdu.', ', Chile.', ', China.', ', Col.', ', Colombia.', ', Colorado.', ', Connecticut.', ', Copenhagen.', ', Croatia.', ', Crta.', ', Cryptococcus.', ', CsBPI.', ', CsgA.', ', Ctra.', ', Cuba.', ', Custodisstr.', ', Cyprus.', ', Czechia.', ', Dallas.', ', Denmark.', ', Dept.', ', Deutschland.', ', Dist.', ', Distt.', ', Div.', ', DnaI.', ', DnaK.', ', Drosocin.', ', Drs.', ', Ecuador.', ', Edif.', ', Egypt.', ', Estonia.', ', Ethiopia.', ', Eur.', ', FQWQRN.', ', FRANCE.', ', Finland.', ', Fla.', ', Florida.', ', France.', ', Frauenlobstr.', ', Gen.', ', Georgia.', ', Germany.', ', Ghana.', ', Govt.', ', Greece.', ', Grosshadern.', ', Guadeloupe.', ', Guanajuato.', ', Guinea.', ', Gujarat.', ', HKSAR.', ', HUS.', ', HaCaT.', ', Hbt.', ', HeLa.', ', Herrsching.', ', Humboldtstr.', ', Hungary.', ', INDIA.', ', IPN.', ', Iceland.', ', Illinois.', ', Inc.', ', India.', ', Indiana.', ', Infect.', ', Inhoffenstr.', ', Iowa.', ', Iran.', ', Iraq.', ', Ireland.', ', IsCT.', ', Israel.', ', Italia.', ', Italy.', ', Jal.', ', James.', ', Japan.', ', Jiangsu.', ', Johannesburg.', ', Jordan.', ', Kaiserstr.', ', Kalle.', ', Kansas.', ', Kazakhstan.', ', Kerala.', ', Kgs.', ', Kiel.', ', Korea.', ', Kuwait.', ', LLC.', ', LTA.', ', Latvia.', ', Lebanon.', ', Litoria.', ', Loc.', ', London.', ', Louisiana.', ', Ltd.', ', Luzhou.', ', MSE.', ', Macao.', ', Malaysia.', ', Man.', ', Maryland.', ', Mass.', ', Mexico.', ', Michigan.', ', Milan.', ', Minnesota.', ', Missouri.', ', Mongolia.', ', Mor.', ', Morelos.', ', Morocco.', ', Moscow.', ', Moskau.', ', Mozambique.', ', NMB.', ', Netherlands.', ', Norway.', ', Ohio.', ', Okla.', ', Olshausenstr.', ', Oman.', ', Ont.', ', Oregon.', ', OspC.', ', PGLa.', ', PRC.', ', PagP.', ', Pakistan.', ', Palestine.', ', Pauwelsstr.', ', Pav.', ', Pennsylvania.', ', Perm.', ', Peru.', ', Philippines.', ', PmrD.', ', Poland.', ', Polska.', ', Portugal.', ', Prol.', ', Qatar.', ', Qld.', ', Que.', ', ROC.', ', RRWVRRVRRWVRRVVRVVRRWVRR.', ', RTCYCRTGR.', ', Rana.', ', RcsF.', ', Rennes.', ', Roma.', ', Romania.', ', Roumania.', ', Russia.', ', Schumannstr.', ', Scotland.', ', Seattle.', ', Sec.', ', Seoul.', ', Serbia.', ', Singapore.', ', Slovakia.', ', Slovenia.', ', Spain.', ', Staph.', ', Stockholm.', ', Str.', ', Stuttgart.', ', Succ.', ', Sudan.', ', Swede.', ', Sweden.', ', Switzerland.', ', Szczecin.', ', TFE.', ', Taiwan.', ', Tammannstr.', ', Tennessee.', ', Tex.', ', Texas.', ', Thailand.', ', Thea.', ', Tokushima.', ', Tokyo.', ', Trieste.', ', Tunisia.', ', Tunisie.', ', Turkey.', ', Turkiye.', ', Turku.', ', UAE.', ', UCLA.', ', UNAM.', ', UNL.', ', USA.', ', USF.', ', Ukraine.', ', Univ.', ', Uruguay.', ', Utrecht.', ', Vadodara.', ', Venezuela.', ', Vic.', ', Vietnam.', ', Vol.', ', Vul.', ', Weinheim.', ', Wisconsin.', ', Wits.', ', Wuhan.', ', Yunnan.']\n"
     ]
    }
   ],
   "source": [
    "print (r)"
   ]
  },
  {
   "cell_type": "code",
   "execution_count": 42,
   "metadata": {},
   "outputs": [],
   "source": [
    "a = \"\".join(unique_codes)\n",
    "b = a.split(\", \")\n",
    "c = \"\".join(b)\n",
    "unique_zipcodes = c.split(\".\")"
   ]
  },
  {
   "cell_type": "code",
   "execution_count": 43,
   "metadata": {},
   "outputs": [
    {
     "name": "stdout",
     "output_type": "stream",
     "text": [
      "[', Acad.', ', Allemagne.', ', Amsterdam.', ', Angew.', ', Anichstr.', ', Antimicrob.', ', Antioquia.', ', Apdo.', ', Argentina.', ', Armenia.', ', Atsugi.', ', Auerbachstr.', ', Australia.', ', Austria.', ', Avda.', ', Ave.', ', BCS.', ', Bangladesh.', ', Barcelona.', ', Bari.']\n"
     ]
    }
   ],
   "source": [
    "print(unique_codes[:20])"
   ]
  },
  {
   "cell_type": "code",
   "execution_count": 44,
   "metadata": {},
   "outputs": [
    {
     "data": {
      "text/plain": [
       "267"
      ]
     },
     "execution_count": 44,
     "metadata": {},
     "output_type": "execute_result"
    }
   ],
   "source": [
    "len(unique_zipcodes)"
   ]
  },
  {
   "cell_type": "code",
   "execution_count": 45,
   "metadata": {},
   "outputs": [
    {
     "data": {
      "text/html": [
       "<div>\n",
       "<style scoped>\n",
       "    .dataframe tbody tr th:only-of-type {\n",
       "        vertical-align: middle;\n",
       "    }\n",
       "\n",
       "    .dataframe tbody tr th {\n",
       "        vertical-align: top;\n",
       "    }\n",
       "\n",
       "    .dataframe thead th {\n",
       "        text-align: right;\n",
       "    }\n",
       "</style>\n",
       "<table border=\"1\" class=\"dataframe\">\n",
       "  <thead>\n",
       "    <tr style=\"text-align: right;\">\n",
       "      <th></th>\n",
       "      <th>country</th>\n",
       "      <th>latitude</th>\n",
       "      <th>longitude</th>\n",
       "      <th>name</th>\n",
       "    </tr>\n",
       "  </thead>\n",
       "  <tbody>\n",
       "    <tr>\n",
       "      <th>0</th>\n",
       "      <td>AD</td>\n",
       "      <td>42.546245</td>\n",
       "      <td>1.601554</td>\n",
       "      <td>Andorra</td>\n",
       "    </tr>\n",
       "    <tr>\n",
       "      <th>1</th>\n",
       "      <td>AE</td>\n",
       "      <td>23.424076</td>\n",
       "      <td>53.847818</td>\n",
       "      <td>United Arab Emirates</td>\n",
       "    </tr>\n",
       "    <tr>\n",
       "      <th>2</th>\n",
       "      <td>AF</td>\n",
       "      <td>33.939110</td>\n",
       "      <td>67.709953</td>\n",
       "      <td>Afghanistan</td>\n",
       "    </tr>\n",
       "    <tr>\n",
       "      <th>3</th>\n",
       "      <td>AG</td>\n",
       "      <td>17.060816</td>\n",
       "      <td>-61.796428</td>\n",
       "      <td>Antigua and Barbuda</td>\n",
       "    </tr>\n",
       "    <tr>\n",
       "      <th>4</th>\n",
       "      <td>AI</td>\n",
       "      <td>18.220554</td>\n",
       "      <td>-63.068615</td>\n",
       "      <td>Anguilla</td>\n",
       "    </tr>\n",
       "    <tr>\n",
       "      <th>5</th>\n",
       "      <td>AL</td>\n",
       "      <td>41.153332</td>\n",
       "      <td>20.168331</td>\n",
       "      <td>Albania</td>\n",
       "    </tr>\n",
       "    <tr>\n",
       "      <th>6</th>\n",
       "      <td>AM</td>\n",
       "      <td>40.069099</td>\n",
       "      <td>45.038189</td>\n",
       "      <td>Armenia</td>\n",
       "    </tr>\n",
       "    <tr>\n",
       "      <th>7</th>\n",
       "      <td>AN</td>\n",
       "      <td>12.226079</td>\n",
       "      <td>-69.060087</td>\n",
       "      <td>Netherlands Antilles</td>\n",
       "    </tr>\n",
       "    <tr>\n",
       "      <th>8</th>\n",
       "      <td>AO</td>\n",
       "      <td>-11.202692</td>\n",
       "      <td>17.873887</td>\n",
       "      <td>Angola</td>\n",
       "    </tr>\n",
       "    <tr>\n",
       "      <th>9</th>\n",
       "      <td>AQ</td>\n",
       "      <td>-75.250973</td>\n",
       "      <td>-0.071389</td>\n",
       "      <td>Antarctica</td>\n",
       "    </tr>\n",
       "    <tr>\n",
       "      <th>10</th>\n",
       "      <td>AR</td>\n",
       "      <td>-38.416097</td>\n",
       "      <td>-63.616672</td>\n",
       "      <td>Argentina</td>\n",
       "    </tr>\n",
       "    <tr>\n",
       "      <th>11</th>\n",
       "      <td>AS</td>\n",
       "      <td>-14.270972</td>\n",
       "      <td>-170.132217</td>\n",
       "      <td>American Samoa</td>\n",
       "    </tr>\n",
       "    <tr>\n",
       "      <th>12</th>\n",
       "      <td>AT</td>\n",
       "      <td>47.516231</td>\n",
       "      <td>14.550072</td>\n",
       "      <td>Austria</td>\n",
       "    </tr>\n",
       "    <tr>\n",
       "      <th>13</th>\n",
       "      <td>AU</td>\n",
       "      <td>-25.274398</td>\n",
       "      <td>133.775136</td>\n",
       "      <td>Australia</td>\n",
       "    </tr>\n",
       "    <tr>\n",
       "      <th>14</th>\n",
       "      <td>AW</td>\n",
       "      <td>12.521110</td>\n",
       "      <td>-69.968338</td>\n",
       "      <td>Aruba</td>\n",
       "    </tr>\n",
       "  </tbody>\n",
       "</table>\n",
       "</div>"
      ],
      "text/plain": [
       "   country   latitude   longitude                  name\n",
       "0       AD  42.546245    1.601554               Andorra\n",
       "1       AE  23.424076   53.847818  United Arab Emirates\n",
       "2       AF  33.939110   67.709953           Afghanistan\n",
       "3       AG  17.060816  -61.796428   Antigua and Barbuda\n",
       "4       AI  18.220554  -63.068615              Anguilla\n",
       "5       AL  41.153332   20.168331               Albania\n",
       "6       AM  40.069099   45.038189               Armenia\n",
       "7       AN  12.226079  -69.060087  Netherlands Antilles\n",
       "8       AO -11.202692   17.873887                Angola\n",
       "9       AQ -75.250973   -0.071389            Antarctica\n",
       "10      AR -38.416097  -63.616672             Argentina\n",
       "11      AS -14.270972 -170.132217        American Samoa\n",
       "12      AT  47.516231   14.550072               Austria\n",
       "13      AU -25.274398  133.775136             Australia\n",
       "14      AW  12.521110  -69.968338                 Aruba"
      ]
     },
     "execution_count": 45,
     "metadata": {},
     "output_type": "execute_result"
    }
   ],
   "source": [
    "%matplotlib inline\n",
    "\n",
    "Coordenadas = pd.read_csv('Data/data_Coordenadas.csv', engine='python', skipfooter=3)\n",
    "Coordenadas.head(15)"
   ]
  },
  {
   "cell_type": "code",
   "execution_count": 46,
   "metadata": {},
   "outputs": [
    {
     "data": {
      "text/html": [
       "<div>\n",
       "<style scoped>\n",
       "    .dataframe tbody tr th:only-of-type {\n",
       "        vertical-align: middle;\n",
       "    }\n",
       "\n",
       "    .dataframe tbody tr th {\n",
       "        vertical-align: top;\n",
       "    }\n",
       "\n",
       "    .dataframe thead th {\n",
       "        text-align: right;\n",
       "    }\n",
       "</style>\n",
       "<table border=\"1\" class=\"dataframe\">\n",
       "  <thead>\n",
       "    <tr style=\"text-align: right;\">\n",
       "      <th></th>\n",
       "      <th>Country</th>\n",
       "      <th>Latitud</th>\n",
       "      <th>Longitud</th>\n",
       "      <th>Name</th>\n",
       "    </tr>\n",
       "  </thead>\n",
       "  <tbody>\n",
       "    <tr>\n",
       "      <th>0</th>\n",
       "      <td>AD</td>\n",
       "      <td>42.546245</td>\n",
       "      <td>1.601554</td>\n",
       "      <td>Andorra</td>\n",
       "    </tr>\n",
       "    <tr>\n",
       "      <th>1</th>\n",
       "      <td>AE</td>\n",
       "      <td>23.424076</td>\n",
       "      <td>53.847818</td>\n",
       "      <td>United Arab Emirates</td>\n",
       "    </tr>\n",
       "    <tr>\n",
       "      <th>2</th>\n",
       "      <td>AF</td>\n",
       "      <td>33.939110</td>\n",
       "      <td>67.709953</td>\n",
       "      <td>Afghanistan</td>\n",
       "    </tr>\n",
       "    <tr>\n",
       "      <th>3</th>\n",
       "      <td>AG</td>\n",
       "      <td>17.060816</td>\n",
       "      <td>-61.796428</td>\n",
       "      <td>Antigua and Barbuda</td>\n",
       "    </tr>\n",
       "    <tr>\n",
       "      <th>4</th>\n",
       "      <td>AI</td>\n",
       "      <td>18.220554</td>\n",
       "      <td>-63.068615</td>\n",
       "      <td>Anguilla</td>\n",
       "    </tr>\n",
       "    <tr>\n",
       "      <th>5</th>\n",
       "      <td>AL</td>\n",
       "      <td>41.153332</td>\n",
       "      <td>20.168331</td>\n",
       "      <td>Albania</td>\n",
       "    </tr>\n",
       "    <tr>\n",
       "      <th>6</th>\n",
       "      <td>AM</td>\n",
       "      <td>40.069099</td>\n",
       "      <td>45.038189</td>\n",
       "      <td>Armenia</td>\n",
       "    </tr>\n",
       "    <tr>\n",
       "      <th>7</th>\n",
       "      <td>AN</td>\n",
       "      <td>12.226079</td>\n",
       "      <td>-69.060087</td>\n",
       "      <td>Netherlands Antilles</td>\n",
       "    </tr>\n",
       "    <tr>\n",
       "      <th>8</th>\n",
       "      <td>AO</td>\n",
       "      <td>-11.202692</td>\n",
       "      <td>17.873887</td>\n",
       "      <td>Angola</td>\n",
       "    </tr>\n",
       "    <tr>\n",
       "      <th>9</th>\n",
       "      <td>AQ</td>\n",
       "      <td>-75.250973</td>\n",
       "      <td>-0.071389</td>\n",
       "      <td>Antarctica</td>\n",
       "    </tr>\n",
       "  </tbody>\n",
       "</table>\n",
       "</div>"
      ],
      "text/plain": [
       "  Country    Latitud   Longitud                  Name\n",
       "0      AD  42.546245   1.601554               Andorra\n",
       "1      AE  23.424076  53.847818  United Arab Emirates\n",
       "2      AF  33.939110  67.709953           Afghanistan\n",
       "3      AG  17.060816 -61.796428   Antigua and Barbuda\n",
       "4      AI  18.220554 -63.068615              Anguilla\n",
       "5      AL  41.153332  20.168331               Albania\n",
       "6      AM  40.069099  45.038189               Armenia\n",
       "7      AN  12.226079 -69.060087  Netherlands Antilles\n",
       "8      AO -11.202692  17.873887                Angola\n",
       "9      AQ -75.250973  -0.071389            Antarctica"
      ]
     },
     "execution_count": 46,
     "metadata": {},
     "output_type": "execute_result"
    }
   ],
   "source": [
    "Coordenadas.columns = [\"Country\", \"Latitud\", \"Longitud\", \"Name\"]\n",
    "Coordenadas.head(10)"
   ]
  },
  {
   "cell_type": "code",
   "execution_count": 47,
   "metadata": {},
   "outputs": [],
   "source": [
    "Nombre = Coordenadas[Coordenadas.Name.isin(unique_zipcodes)]\n",
    "Paises = Coordenadas[Coordenadas.Country.isin(unique_zipcodes)]\n",
    "Mapa = pd.concat([Nombre,Paises]).drop_duplicates().sort_values('Name')"
   ]
  },
  {
   "cell_type": "code",
   "execution_count": 48,
   "metadata": {},
   "outputs": [
    {
     "data": {
      "text/html": [
       "<div>\n",
       "<style scoped>\n",
       "    .dataframe tbody tr th:only-of-type {\n",
       "        vertical-align: middle;\n",
       "    }\n",
       "\n",
       "    .dataframe tbody tr th {\n",
       "        vertical-align: top;\n",
       "    }\n",
       "\n",
       "    .dataframe thead th {\n",
       "        text-align: right;\n",
       "    }\n",
       "</style>\n",
       "<table border=\"1\" class=\"dataframe\">\n",
       "  <thead>\n",
       "    <tr style=\"text-align: right;\">\n",
       "      <th></th>\n",
       "      <th>Country</th>\n",
       "      <th>Latitud</th>\n",
       "      <th>Longitud</th>\n",
       "      <th>Name</th>\n",
       "    </tr>\n",
       "  </thead>\n",
       "  <tbody>\n",
       "    <tr>\n",
       "      <th>10</th>\n",
       "      <td>AR</td>\n",
       "      <td>-38.416097</td>\n",
       "      <td>-63.616672</td>\n",
       "      <td>Argentina</td>\n",
       "    </tr>\n",
       "    <tr>\n",
       "      <th>6</th>\n",
       "      <td>AM</td>\n",
       "      <td>40.069099</td>\n",
       "      <td>45.038189</td>\n",
       "      <td>Armenia</td>\n",
       "    </tr>\n",
       "    <tr>\n",
       "      <th>13</th>\n",
       "      <td>AU</td>\n",
       "      <td>-25.274398</td>\n",
       "      <td>133.775136</td>\n",
       "      <td>Australia</td>\n",
       "    </tr>\n",
       "    <tr>\n",
       "      <th>12</th>\n",
       "      <td>AT</td>\n",
       "      <td>47.516231</td>\n",
       "      <td>14.550072</td>\n",
       "      <td>Austria</td>\n",
       "    </tr>\n",
       "    <tr>\n",
       "      <th>18</th>\n",
       "      <td>BD</td>\n",
       "      <td>23.684994</td>\n",
       "      <td>90.356331</td>\n",
       "      <td>Bangladesh</td>\n",
       "    </tr>\n",
       "    <tr>\n",
       "      <th>33</th>\n",
       "      <td>BY</td>\n",
       "      <td>53.709807</td>\n",
       "      <td>27.953389</td>\n",
       "      <td>Belarus</td>\n",
       "    </tr>\n",
       "    <tr>\n",
       "      <th>19</th>\n",
       "      <td>BE</td>\n",
       "      <td>50.503887</td>\n",
       "      <td>4.469936</td>\n",
       "      <td>Belgium</td>\n",
       "    </tr>\n",
       "    <tr>\n",
       "      <th>32</th>\n",
       "      <td>BW</td>\n",
       "      <td>-22.328474</td>\n",
       "      <td>24.684866</td>\n",
       "      <td>Botswana</td>\n",
       "    </tr>\n",
       "    <tr>\n",
       "      <th>28</th>\n",
       "      <td>BR</td>\n",
       "      <td>-14.235004</td>\n",
       "      <td>-51.925280</td>\n",
       "      <td>Brazil</td>\n",
       "    </tr>\n",
       "    <tr>\n",
       "      <th>21</th>\n",
       "      <td>BG</td>\n",
       "      <td>42.733883</td>\n",
       "      <td>25.485830</td>\n",
       "      <td>Bulgaria</td>\n",
       "    </tr>\n",
       "  </tbody>\n",
       "</table>\n",
       "</div>"
      ],
      "text/plain": [
       "   Country    Latitud    Longitud        Name\n",
       "10      AR -38.416097  -63.616672   Argentina\n",
       "6       AM  40.069099   45.038189     Armenia\n",
       "13      AU -25.274398  133.775136   Australia\n",
       "12      AT  47.516231   14.550072     Austria\n",
       "18      BD  23.684994   90.356331  Bangladesh\n",
       "33      BY  53.709807   27.953389     Belarus\n",
       "19      BE  50.503887    4.469936     Belgium\n",
       "32      BW -22.328474   24.684866    Botswana\n",
       "28      BR -14.235004  -51.925280      Brazil\n",
       "21      BG  42.733883   25.485830    Bulgaria"
      ]
     },
     "execution_count": 48,
     "metadata": {},
     "output_type": "execute_result"
    }
   ],
   "source": [
    "Mapa.head(10)"
   ]
  },
  {
   "cell_type": "code",
   "execution_count": 49,
   "metadata": {},
   "outputs": [
    {
     "data": {
      "image/png": "[encoded data removed]",
      "text/plain": [
       "<Figure size 1296x864 with 2 Axes>"
      ]
     },
     "metadata": {
      "needs_background": "light"
     },
     "output_type": "display_data"
    }
   ],
   "source": [
    "#matplotlib \n",
    "import matplotlib.pyplot as plt\n",
    "plt.scatter(Mapa.Longitud, Mapa.Latitud, s=50, c=Mapa.Latitud)\n",
    "plt.colorbar()\n",
    "\n",
    "ard = dict(arrowstyle=\"->\")\n",
    "plt.annotate('USA', xy = (-95.712891, 37.09024), xytext = (-95.712891, 40), arrowprops = ard)\n",
    "plt.annotate('MEXICO', xy = (-102.552784, 23.634501), xytext = (-102.552784,19), arrowprops= ard)\n",
    "plt.annotate('BRAZIL', xy = (-51.92528, -14.235004), xytext = (-51.92528, -11), arrowprops= ard)\n",
    "plt.annotate('CHINA', xy = (104.195397, 35.86166), xytext = (104.195397, 39), arrowprops= ard)\n",
    "plt.annotate('AUSTRALIA', xy = (133.775136, -25.274398), xytext = (133.775136, -22), arrowprops= ard)\n",
    "plt.annotate('CHICAGO', xy = ( -87.65005, 41.8379), xytext = (-87.65005, 41), arrowprops= ard)\n",
    "\n",
    "params = plt.gcf()\n",
    "plSize = params.get_size_inches()\n",
    "params.set_size_inches( (plSize[0] * 3, plSize[1] * 3) )\n",
    "plt.savefig(\"Mapa of frogs.png\")"
   ]
  },
  {
   "cell_type": "code",
   "execution_count": null,
   "metadata": {},
   "outputs": [],
   "source": []
  }
 ],
 "metadata": {
  "kernelspec": {
   "display_name": "Python 3 (ipykernel)",
   "language": "python",
   "name": "python3"
  },
  "language_info": {
   "codemirror_mode": {
    "name": "ipython",
    "version": 3
   },
   "file_extension": ".py",
   "mimetype": "text/x-python",
   "name": "python",
   "nbconvert_exporter": "python",
   "pygments_lexer": "ipython3",
   "version": "3.9.7"
  }
 },
 "nbformat": 4,
 "nbformat_minor": 1
}
